{
 "cells": [
  {
   "cell_type": "markdown",
   "metadata": {},
   "source": [
    "# UnnecessaryText  Cleaning from your Datasets using Machine Learning #sample"
   ]
  },
  {
   "cell_type": "code",
   "execution_count": 1,
   "metadata": {},
   "outputs": [],
   "source": [
    "raw_docs = [\"This is my first text cleaning example.\", \" I'm using very.. simple examPle to make #IT Understand\",\n",
    "           \"_So,.. how Can It be &done#? \", \"HAHAHAHA, Let's S%tart*\"]"
   ]
  },
  {
   "cell_type": "code",
   "execution_count": 2,
   "metadata": {},
   "outputs": [
    {
     "name": "stderr",
     "output_type": "stream",
     "text": [
      "[nltk_data] Downloading package punkt to\n",
      "[nltk_data]     C:\\Users\\bell\\AppData\\Roaming\\nltk_data...\n",
      "[nltk_data]   Package punkt is already up-to-date!\n"
     ]
    },
    {
     "data": {
      "text/plain": [
       "True"
      ]
     },
     "execution_count": 2,
     "metadata": {},
     "output_type": "execute_result"
    }
   ],
   "source": [
    "import nltk\n",
    "nltk.download('punkt')\n"
   ]
  },
  {
   "cell_type": "markdown",
   "metadata": {},
   "source": [
    "# Step1: Now converting the doc to lowercase"
   ]
  },
  {
   "cell_type": "code",
   "execution_count": 3,
   "metadata": {},
   "outputs": [
    {
     "name": "stdout",
     "output_type": "stream",
     "text": [
      "['this is my first text cleaning example.', \" i'm using very.. simple example to make #it understand\", '_so,.. how can it be &done#? ', \"hahahaha, let's s%tart*\"]\n"
     ]
    }
   ],
   "source": [
    "import string\n",
    "raw_docs = [doc.lower() for doc in raw_docs]\n",
    "print(raw_docs)"
   ]
  },
  {
   "cell_type": "markdown",
   "metadata": {},
   "source": [
    "# Step 2: Tokanization (tokanizing either word or sentence)"
   ]
  },
  {
   "cell_type": "code",
   "execution_count": 4,
   "metadata": {},
   "outputs": [
    {
     "name": "stdout",
     "output_type": "stream",
     "text": [
      "[['this', 'is', 'my', 'first', 'text', 'cleaning', 'example', '.'], ['i', \"'m\", 'using', 'very', '..', 'simple', 'example', 'to', 'make', '#', 'it', 'understand'], ['_so', ',', '..', 'how', 'can', 'it', 'be', '&', 'done', '#', '?'], ['hahahaha', ',', 'let', \"'s\", 's', '%', 'tart', '*']]\n"
     ]
    }
   ],
   "source": [
    "# tokanizing words from the sentences\n",
    "from nltk.tokenize import word_tokenize\n",
    "tokanized_doc = [word_tokenize(doc)for doc in raw_docs]\n",
    "print(tokanized_doc)"
   ]
  },
  {
   "cell_type": "code",
   "execution_count": 5,
   "metadata": {},
   "outputs": [
    {
     "name": "stdout",
     "output_type": "stream",
     "text": [
      "[['this is my first text cleaning example.'], [\" i'm using very.. simple example to make #it understand\"], ['_so,.. how can it be &done#?'], [\"hahahaha, let's s%tart*\"]]\n"
     ]
    }
   ],
   "source": [
    "#tokanizing sentence from the documents\n",
    "from nltk.tokenize import sent_tokenize\n",
    "tokenized_sent =[sent_tokenize(doc) for doc in raw_docs]\n",
    "print(tokenized_sent)"
   ]
  },
  {
   "cell_type": "markdown",
   "metadata": {},
   "source": [
    "# Step 3: Removing all punctuations from the text doc"
   ]
  },
  {
   "cell_type": "code",
   "execution_count": 6,
   "metadata": {},
   "outputs": [
    {
     "name": "stdout",
     "output_type": "stream",
     "text": [
      "[['this', 'is', 'my', 'first', 'text', 'cleaning', 'example'], ['i', 'm', 'using', 'very', 'simple', 'example', 'to', 'make', 'it', 'understand'], ['so', 'how', 'can', 'it', 'be', 'done'], ['hahahaha', 'let', 's', 's', 'tart']]\n"
     ]
    }
   ],
   "source": [
    "import re # re= regular expression\n",
    "remove = re.compile ('[%s]'%re.escape(string. punctuation))\n",
    "no_punctuation_doc =[]\n",
    "\n",
    "for review in tokanized_doc:\n",
    "    new_review= []\n",
    "    for token in review:\n",
    "        new_token = remove.sub(u'', token)\n",
    "        if not new_token == u'':\n",
    "            new_review.append(new_token)\n",
    "            \n",
    "    no_punctuation_doc.append(new_review)\n",
    "print(no_punctuation_doc)\n",
    "        \n"
   ]
  },
  {
   "cell_type": "markdown",
   "metadata": {},
   "source": [
    "# Removing stopwords"
   ]
  },
  {
   "cell_type": "code",
   "execution_count": 7,
   "metadata": {},
   "outputs": [
    {
     "name": "stderr",
     "output_type": "stream",
     "text": [
      "[nltk_data] Downloading package stopwords to\n",
      "[nltk_data]     C:\\Users\\bell\\AppData\\Roaming\\nltk_data...\n",
      "[nltk_data]   Package stopwords is already up-to-date!\n"
     ]
    },
    {
     "data": {
      "text/plain": [
       "True"
      ]
     },
     "execution_count": 7,
     "metadata": {},
     "output_type": "execute_result"
    }
   ],
   "source": [
    "nltk.download('stopwords')"
   ]
  },
  {
   "cell_type": "code",
   "execution_count": 8,
   "metadata": {},
   "outputs": [
    {
     "name": "stdout",
     "output_type": "stream",
     "text": [
      "{'than', 'his', 'more', \"it's\", 'be', \"she's\", 'have', 'above', 'just', 'and', 'myself', \"wasn't\", \"didn't\", 'because', 'very', 'don', 'our', 'so', 'can', 'i', \"shan't\", 'out', 'how', 'not', 'should', 'd', 'ourselves', 'ours', 'other', 'they', 'had', 'didn', \"hadn't\", 'is', 'we', 'herself', 'most', 'between', 'doesn', 'does', 'whom', 'was', 'after', 'needn', 'by', 'isn', 'down', 't', 'that', 'an', 'the', \"needn't\", 'were', 'ain', 'for', 'm', 'such', \"that'll\", 'too', \"mustn't\", 'wouldn', 's', 'their', 'your', 'shouldn', 'up', 'theirs', 'do', 'hers', 'did', 'then', 'its', 'now', 'few', \"won't\", 'over', 'again', \"weren't\", 'or', 'a', 'once', 'will', 'each', 'itself', \"couldn't\", 'shan', 'those', 'below', 'all', 'hasn', 'yourself', \"haven't\", 'won', 'this', 'why', 'only', \"wouldn't\", 'hadn', 'where', 'mightn', 'with', 'yourselves', 'ma', 'both', 'my', 'weren', 'until', 'own', 'while', 'same', 'no', 'but', 'there', 'been', 'through', 'being', 'mustn', 'to', 'doing', 'y', 'couldn', 'further', \"you've\", 'about', \"don't\", 'against', 'any', 'before', 'am', 'haven', 'them', 'she', 'of', 'having', 'he', \"you'd\", 'from', 'here', 'are', 'wasn', 'what', 'o', 'off', 'it', 'during', 'yours', \"shouldn't\", \"you'll\", \"you're\", \"aren't\", 'themselves', \"mightn't\", 'me', \"isn't\", 'her', 'some', 'himself', 'if', 'at', 'when', 'as', 'has', 'these', 'on', 'who', 'into', 'which', \"should've\", 'aren', \"hasn't\", 'under', 'nor', 're', 'you', \"doesn't\", 'll', 'him', 'in', 've'}\n",
      "                            \n",
      "                            \n",
      "                            \n",
      "[['first', 'text', 'cleaning', 'example'], ['using', 'simple', 'example', 'make', 'understand'], ['done'], ['hahahaha', 'let', 'tart']]\n"
     ]
    }
   ],
   "source": [
    "# stopwords are the most frequenctly used word in English like a, the, is , am , an etc\n",
    "from nltk.corpus import stopwords\n",
    "stopwords_now = set(stopwords.words('english'))\n",
    "print(stopwords_now) # these are the stopwords in english\n",
    "\n",
    "print('                            ')\n",
    "print('                            ')\n",
    "print('                            ')\n",
    "no_stopword_doc = []\n",
    "\n",
    "for doc in no_punctuation_doc:\n",
    "    new_term = []\n",
    "    for word in doc:\n",
    "        if not word in stopwords.words('english'):\n",
    "            new_term.append(word)\n",
    "    no_stopword_doc.append(new_term)\n",
    "    \n",
    "print(no_stopword_doc) #these are the words_doc without stopwords\n",
    "        \n",
    " \n"
   ]
  },
  {
   "cell_type": "code",
   "execution_count": null,
   "metadata": {},
   "outputs": [],
   "source": []
  }
 ],
 "metadata": {
  "kernelspec": {
   "display_name": "Python 3",
   "language": "python",
   "name": "python3"
  },
  "language_info": {
   "codemirror_mode": {
    "name": "ipython",
    "version": 3
   },
   "file_extension": ".py",
   "mimetype": "text/x-python",
   "name": "python",
   "nbconvert_exporter": "python",
   "pygments_lexer": "ipython3",
   "version": "3.8.3"
  }
 },
 "nbformat": 4,
 "nbformat_minor": 4
}
